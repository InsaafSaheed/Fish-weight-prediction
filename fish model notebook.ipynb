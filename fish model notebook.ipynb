{
 "cells": [
  {
   "cell_type": "code",
   "execution_count": 22,
   "id": "eac21a8c",
   "metadata": {},
   "outputs": [],
   "source": [
    "import pandas as pd\n",
    "from sklearn.ensemble import GradientBoostingRegressor\n",
    "from sklearn.preprocessing import LabelEncoder\n",
    "from sklearn.metrics import mean_absolute_error, r2_score\n",
    "import pickle\n"
   ]
  },
  {
   "cell_type": "code",
   "execution_count": 15,
   "id": "6097faa3",
   "metadata": {},
   "outputs": [],
   "source": [
    "# Load the Fish dataset\n",
    "df = pd.read_csv('Fish.csv')\n",
    "\n",
    "# Preprocessing\n",
    "# Split the data into features (X) and target (y)\n",
    "X = df.drop(columns=['Weight'])\n",
    "y = df['Weight']"
   ]
  },
  {
   "cell_type": "code",
   "execution_count": 18,
   "id": "f2f91b33",
   "metadata": {},
   "outputs": [],
   "source": [
    "# Basic encoding for the 'Species' column using LabelEncoder\n",
    "le = LabelEncoder()\n",
    "X['Species'] = le.fit_transform(X['Species'])\n"
   ]
  },
  {
   "cell_type": "code",
   "execution_count": 20,
   "id": "45b181e4",
   "metadata": {},
   "outputs": [
    {
     "name": "stdout",
     "output_type": "stream",
     "text": [
      "Model trained and saved.\n"
     ]
    }
   ],
   "source": [
    "# Train the model\n",
    "model.fit(X, y)\n",
    "\n",
    "# Save the trained model and label encoder using pickle\n",
    "with open('fish_model.pkl', 'wb') as file:\n",
    "    pickle.dump((model, le), file)\n",
    "\n",
    "print(\"Model trained and saved.\")"
   ]
  },
  {
   "cell_type": "code",
   "execution_count": 23,
   "id": "96b23416",
   "metadata": {},
   "outputs": [
    {
     "name": "stdout",
     "output_type": "stream",
     "text": [
      "Mean Absolute Error (MAE): 8.479490133738993\n",
      "R-squared (R2): 0.9989044988972116\n"
     ]
    }
   ],
   "source": [
    "# Mean Absolute Error (MAE) on the training data\n",
    "y_pred = model.predict(X)\n",
    "mae = mean_absolute_error(y, y_pred)\n",
    "print(\"Mean Absolute Error (MAE):\", mae)\n",
    "\n",
    "# R-squared (R2) on the training data\n",
    "r2 = r2_score(y, y_pred)\n",
    "print(\"R-squared (R2):\", r2)"
   ]
  },
  {
   "cell_type": "code",
   "execution_count": 3,
   "id": "676cd335",
   "metadata": {},
   "outputs": [
    {
     "name": "stdout",
     "output_type": "stream",
     "text": [
      "Name: scikit-learn\n",
      "Version: 1.2.1\n",
      "Summary: A set of python modules for machine learning and data mining\n",
      "Home-page: http://scikit-learn.org\n",
      "Author: \n",
      "Author-email: \n",
      "License: new BSD\n",
      "Location: c:\\users\\insaa\\anaconda3\\lib\\site-packages\n",
      "Requires: joblib, numpy, scipy, threadpoolctl\n",
      "Required-by: scikit-learn-intelex\n"
     ]
    }
   ],
   "source": [
    "!python -m pip show scikit-learn"
   ]
  },
  {
   "cell_type": "code",
   "execution_count": 4,
   "id": "581195a7",
   "metadata": {},
   "outputs": [
    {
     "name": "stdout",
     "output_type": "stream",
     "text": [
      "Name: numpy\n",
      "Version: 1.23.5\n",
      "Summary: NumPy is the fundamental package for array computing with Python.\n",
      "Home-page: https://www.numpy.org\n",
      "Author: Travis E. Oliphant et al.\n",
      "Author-email: \n",
      "License: BSD\n",
      "Location: c:\\users\\insaa\\anaconda3\\lib\\site-packages\n",
      "Requires: \n",
      "Required-by: altair, astropy, bkcharts, bokeh, Bottleneck, daal4py, datashader, datashape, gensim, gradio, h5py, holoviews, hvplot, imagecodecs, imageio, jax, Keras-Preprocessing, langchain, matplotlib, mkl-fft, mkl-random, ml-dtypes, numba, numexpr, openai-whisper, opt-einsum, pandas, patsy, pyerfa, PyWavelets, scikit-image, scikit-learn, scipy, seaborn, statsmodels, sweetviz, tables, tensorboard, tensorflow-intel, tifffile, transformers, xarray\n"
     ]
    }
   ],
   "source": [
    "!python -m pip show numpy"
   ]
  },
  {
   "cell_type": "code",
   "execution_count": null,
   "id": "5e01abfa",
   "metadata": {},
   "outputs": [],
   "source": []
  }
 ],
 "metadata": {
  "kernelspec": {
   "display_name": "Python 3 (ipykernel)",
   "language": "python",
   "name": "python3"
  },
  "language_info": {
   "codemirror_mode": {
    "name": "ipython",
    "version": 3
   },
   "file_extension": ".py",
   "mimetype": "text/x-python",
   "name": "python",
   "nbconvert_exporter": "python",
   "pygments_lexer": "ipython3",
   "version": "3.9.13"
  }
 },
 "nbformat": 4,
 "nbformat_minor": 5
}
